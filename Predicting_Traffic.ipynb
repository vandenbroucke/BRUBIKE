{
 "cells": [
  {
   "cell_type": "markdown",
   "metadata": {},
   "source": [
    "# Importing libraries and loading data"
   ]
  },
  {
   "cell_type": "code",
   "execution_count": 1,
   "metadata": {},
   "outputs": [],
   "source": [
    "import tensorflow as tf\n",
    "import numpy\n",
    "import pandas as pd\n",
    "import matplotlib.pyplot as plt\n",
    "import seaborn as sns\n",
    "from sklearn import preprocessing\n",
    "from sklearn.metrics import mean_squared_error\n",
    "from sklearn.model_selection import train_test_split\n",
    "from tensorflow.python.keras.models import Sequential\n",
    "from tensorflow.python.keras.layers import Dense\n",
    "from tensorflow.python.keras.layers import LSTM\n",
    "from tensorflow.python.keras import initializers\n",
    "from utils import *"
   ]
  },
  {
   "cell_type": "markdown",
   "metadata": {},
   "source": [
    "# Process weathertypes, remove empty windspeed and store (ignore if already done)"
   ]
  },
  {
   "cell_type": "code",
   "execution_count": 2,
   "metadata": {},
   "outputs": [
    {
     "name": "stdout",
     "output_type": "stream",
     "text": [
      "File already processed.\n"
     ]
    }
   ],
   "source": [
    "combined_path = \"./data/combined_data.tsv\"\n",
    "weather_combined_path=\"./data/combined_one_hot_data.tsv\"\n",
    "\n",
    "if not check_if_the_tsv_hot_file_already_has_processed_columns(weather_combined_path):\n",
    "    df = pd.read_csv(combined_path,\n",
    "                     sep='\\t',\n",
    "                     header=0) \n",
    "    weather_unique_combinations = df.weather_condition.unique()\n",
    "\n",
    "    #Get list of all unique weather types\n",
    "    types = []\n",
    "    for el in weather_unique_combinations:\n",
    "        for wc in el.split('.'):\n",
    "            if(wc != ''):            \n",
    "                types.append(wc.strip())\n",
    "    true_unique =  set(types)\n",
    "\n",
    "    #Add columns with default value 0 for all unique weather types\n",
    "    for unique_weather_type in true_unique:\n",
    "        df[unique_weather_type]=0\n",
    "\n",
    "    #Loop over all records and set value to 1 for their corresponding weather_types\n",
    "    for index, row in df.iterrows():\n",
    "        row_types = []\n",
    "        for wc in row[\"weather_condition\"].split('.'):\n",
    "            if(wc != ''):            \n",
    "                row_types.append(wc.strip())\n",
    "        for t in row_types:\n",
    "            df.at[index,t]=1\n",
    "\n",
    "\n",
    "    #remove empty windspeeds\n",
    "    df = df[df.wind_speed.apply(lambda x: x.isnumeric())]\n",
    "\n",
    "    #remove original weather_condition column and store, to avoid rerun\n",
    "    df =  df.drop(columns=\"weather_condition\")\n",
    "    df.to_csv(weather_combined_path,\n",
    "              sep='\\t',\n",
    "              index=False,\n",
    "              header=True)    \n",
    "else:\n",
    "    print(\"File already processed.\")"
   ]
  },
  {
   "cell_type": "markdown",
   "metadata": {},
   "source": [
    "# Load in data with one_hot weather types"
   ]
  },
  {
   "cell_type": "code",
   "execution_count": 2,
   "metadata": {},
   "outputs": [
    {
     "name": "stdout",
     "output_type": "stream",
     "text": [
      "      device_name  latitude  longitude  timestamp_from  timestamp_until  \\\n",
      "0          CEK049  50.82448   4.393893      1544095800       1544096700   \n",
      "1          CEK049  50.82448   4.393893      1544096700       1544097600   \n",
      "2          CEK049  50.82448   4.393893      1544097600       1544098500   \n",
      "3          CEK049  50.82448   4.393893      1544098500       1544099400   \n",
      "4          CEK049  50.82448   4.393893      1544099400       1544100300   \n",
      "5          CEK049  50.82448   4.393893      1544445900       1544446800   \n",
      "6          CEK049  50.82448   4.393893      1544446800       1544447700   \n",
      "7          CEK049  50.82448   4.393893      1544447700       1544448600   \n",
      "8          CEK049  50.82448   4.393893      1544448600       1544449500   \n",
      "9          CEK049  50.82448   4.393893      1544449500       1544450400   \n",
      "10         CEK049  50.82448   4.393893      1544510700       1544511600   \n",
      "11         CEK049  50.82448   4.393893      1544511600       1544512500   \n",
      "12         CEK049  50.82448   4.393893      1544512500       1544513400   \n",
      "13         CEK049  50.82448   4.393893      1544513400       1544514300   \n",
      "14         CEK049  50.82448   4.393893      1544514300       1544515200   \n",
      "15         CEK049  50.82448   4.393893      1544515200       1544516100   \n",
      "16         CEK049  50.82448   4.393893      1544516100       1544517000   \n",
      "17         CEK049  50.82448   4.393893      1544517000       1544517900   \n",
      "18         CEK049  50.82448   4.393893      1544517900       1544518800   \n",
      "19         CEK049  50.82448   4.393893      1544518800       1544519700   \n",
      "20         CEK049  50.82448   4.393893      1544519700       1544520600   \n",
      "21         CEK049  50.82448   4.393893      1544520600       1544521500   \n",
      "22         CEK049  50.82448   4.393893      1544521500       1544522400   \n",
      "23         CEK049  50.82448   4.393893      1544522400       1544523300   \n",
      "24         CEK049  50.82448   4.393893      1544523300       1544524200   \n",
      "25         CEK049  50.82448   4.393893      1544524200       1544525100   \n",
      "26         CEK049  50.82448   4.393893      1544525100       1544526000   \n",
      "27         CEK049  50.82448   4.393893      1544526000       1544526900   \n",
      "28         CEK049  50.82448   4.393893      1544526900       1544527800   \n",
      "29         CEK049  50.82448   4.393893      1544527800       1544528700   \n",
      "...           ...       ...        ...             ...              ...   \n",
      "86755      CEE115  50.82284   4.387441      1551995100       1551996000   \n",
      "86756      CEE115  50.82284   4.387441      1551996000       1551996900   \n",
      "86757      CEE115  50.82284   4.387441      1551996900       1551997800   \n",
      "86758      CEE115  50.82284   4.387441      1551997800       1551998700   \n",
      "86759      CEE115  50.82284   4.387441      1551998700       1551999599   \n",
      "86760      CEE115  50.82284   4.387441      1552000500       1552001400   \n",
      "86761      CEE115  50.82284   4.387441      1552002300       1552003200   \n",
      "86762      CEE115  50.82284   4.387441      1552004100       1552005000   \n",
      "86763      CEE115  50.82284   4.387441      1552005000       1552005900   \n",
      "86764      CEE115  50.82284   4.387441      1552005900       1552006800   \n",
      "86765      CEE115  50.82284   4.387441      1552007700       1552008600   \n",
      "86766      CEE115  50.82284   4.387441      1552015800       1552016700   \n",
      "86767      CEE115  50.82284   4.387441      1552017600       1552018500   \n",
      "86768      CEE115  50.82284   4.387441      1552018500       1552019400   \n",
      "86769      CEE115  50.82284   4.387441      1552019400       1552020300   \n",
      "86770      CEE115  50.82284   4.387441      1552020300       1552021200   \n",
      "86771      CEE115  50.82284   4.387441      1552021200       1552022100   \n",
      "86772      CEE115  50.82284   4.387441      1552022100       1552023000   \n",
      "86773      CEE115  50.82284   4.387441      1552023000       1552023900   \n",
      "86774      CEE115  50.82284   4.387441      1552023900       1552024800   \n",
      "86775      CEE115  50.82284   4.387441      1552024800       1552025700   \n",
      "86776      CEE115  50.82284   4.387441      1552025700       1552026600   \n",
      "86777      CEE115  50.82284   4.387441      1552026600       1552027500   \n",
      "86778      CEE115  50.82284   4.387441      1552027500       1552028400   \n",
      "86779      CEE115  50.82284   4.387441      1552028400       1552029300   \n",
      "86780      CEE115  50.82284   4.387441      1552029300       1552030200   \n",
      "86781      CEE115  50.82284   4.387441      1552030200       1552031100   \n",
      "86782      CEE115  50.82284   4.387441      1552031100       1552032000   \n",
      "86783      CEE115  50.82284   4.387441      1552032000       1552032900   \n",
      "86784      CEE115  50.82284   4.387441      1552032900       1552033800   \n",
      "\n",
      "       bike_count  bike_avg_speed  weather_timestamp  temperature  wind_speed  \\\n",
      "0               3              22         1544097000           12          20   \n",
      "1               9              22         1544097000           12          20   \n",
      "2              10              23         1544098800           12          22   \n",
      "3              10              19         1544098800           12          22   \n",
      "4               3              13         1544100600           12          20   \n",
      "5              11              17         1544446200            7          22   \n",
      "6              16              21         1544448000            8          20   \n",
      "7               9              21         1544448000            8          20   \n",
      "8              16              20         1544449800            8          26   \n",
      "9               5              19         1544449800            8          26   \n",
      "10             14              20         1544512800            2           6   \n",
      "11             32              23         1544512800            2           6   \n",
      "12             22              20         1544512800            2           6   \n",
      "13             15              24         1544514600            3           9   \n",
      "14             14              23         1544514600            3           9   \n",
      "15             17              21         1544516400            3           7   \n",
      "16              6              20         1544516400            3           7   \n",
      "17              4              17         1544518200            4           9   \n",
      "18              3              20         1544518200            4           9   \n",
      "19              8              22         1544520000            4           7   \n",
      "20             10              19         1544520000            4           7   \n",
      "21              9              23         1544521800            5           7   \n",
      "22             11              21         1544521800            5           7   \n",
      "23              9              22         1544523600            5           7   \n",
      "24             10              21         1544523600            5           7   \n",
      "25             10              20         1544525400            6           9   \n",
      "26             13              24         1544525400            6           9   \n",
      "27              9              20         1544527200            6           7   \n",
      "28              6              15         1544527200            6           7   \n",
      "29             14              21         1544529000            6          11   \n",
      "...           ...             ...                ...          ...         ...   \n",
      "86755           1              21         1551995400            7          35   \n",
      "86756           3              19         1551997200            7          39   \n",
      "86757           2              16         1551997200            7          39   \n",
      "86758           2              16         1551999000            7          32   \n",
      "86759           1              14         1551999000            7          32   \n",
      "86760           2              17         1552000800            7          35   \n",
      "86761           2              18         1552002600            7          32   \n",
      "86762           3              15         1552004400            7          32   \n",
      "86763           2              15         1552006200            7          30   \n",
      "86764           2               2         1552006200            7          30   \n",
      "86765           2              16         1552009800            7          24   \n",
      "86766           1              15         1552017000            6          19   \n",
      "86767           1              25         1552018800            6          19   \n",
      "86768           2              28         1552018800            6          19   \n",
      "86769           2              14         1552020600            6          17   \n",
      "86770           1              18         1552020600            6          17   \n",
      "86771           1              16         1552022400            6          15   \n",
      "86772           3              25         1552022400            6          15   \n",
      "86773           2              16         1552024200            6          20   \n",
      "86774           6              22         1552024200            6          20   \n",
      "86775           9              20         1552026000            6          19   \n",
      "86776           8              22         1552026000            6          19   \n",
      "86777          11              21         1552027800            6          15   \n",
      "86778          14              20         1552027800            6          15   \n",
      "86779           9              20         1552029600            6          13   \n",
      "86780          10              22         1552029600            6          13   \n",
      "86781           8              24         1552031400            6          15   \n",
      "86782           9              20         1552031400            6          15   \n",
      "86783           4              23         1552033200            7          15   \n",
      "86784           4              14         1552033200            7          15   \n",
      "\n",
      "       ... Ice fog  Thundershowers  Sprinkles  Broken clouds  Rain showers  \\\n",
      "0      ...       0               0          0              0             0   \n",
      "1      ...       0               0          0              0             0   \n",
      "2      ...       0               0          0              0             0   \n",
      "3      ...       0               0          0              0             0   \n",
      "4      ...       0               0          0              0             0   \n",
      "5      ...       0               0          0              0             0   \n",
      "6      ...       0               0          0              0             0   \n",
      "7      ...       0               0          0              0             0   \n",
      "8      ...       0               0          0              0             0   \n",
      "9      ...       0               0          0              0             0   \n",
      "10     ...       0               0          0              0             0   \n",
      "11     ...       0               0          0              0             0   \n",
      "12     ...       0               0          0              0             0   \n",
      "13     ...       0               0          0              0             0   \n",
      "14     ...       0               0          0              0             0   \n",
      "15     ...       0               0          0              0             0   \n",
      "16     ...       0               0          0              0             0   \n",
      "17     ...       0               0          0              0             0   \n",
      "18     ...       0               0          0              0             0   \n",
      "19     ...       0               0          0              0             0   \n",
      "20     ...       0               0          0              0             0   \n",
      "21     ...       0               0          0              0             0   \n",
      "22     ...       0               0          0              0             0   \n",
      "23     ...       0               0          0              0             0   \n",
      "24     ...       0               0          0              0             0   \n",
      "25     ...       0               0          0              0             0   \n",
      "26     ...       0               0          0              0             0   \n",
      "27     ...       0               0          0              0             0   \n",
      "28     ...       0               0          0              0             0   \n",
      "29     ...       0               0          0              0             0   \n",
      "...    ...     ...             ...        ...            ...           ...   \n",
      "86755  ...       0               0          0              0             0   \n",
      "86756  ...       0               0          0              0             0   \n",
      "86757  ...       0               0          0              0             0   \n",
      "86758  ...       0               0          0              0             0   \n",
      "86759  ...       0               0          0              0             0   \n",
      "86760  ...       0               0          0              0             0   \n",
      "86761  ...       0               0          0              0             0   \n",
      "86762  ...       0               0          0              0             0   \n",
      "86763  ...       0               0          0              0             0   \n",
      "86764  ...       0               0          0              0             0   \n",
      "86765  ...       0               0          0              0             0   \n",
      "86766  ...       0               0          0              0             0   \n",
      "86767  ...       0               0          0              0             0   \n",
      "86768  ...       0               0          0              0             0   \n",
      "86769  ...       0               0          0              0             0   \n",
      "86770  ...       0               0          0              0             0   \n",
      "86771  ...       0               0          0              0             0   \n",
      "86772  ...       0               0          0              0             0   \n",
      "86773  ...       0               0          0              0             0   \n",
      "86774  ...       0               0          0              0             0   \n",
      "86775  ...       0               0          0              0             0   \n",
      "86776  ...       0               0          0              0             0   \n",
      "86777  ...       0               0          0              0             0   \n",
      "86778  ...       0               0          0              0             0   \n",
      "86779  ...       0               0          0              0             0   \n",
      "86780  ...       0               0          0              0             0   \n",
      "86781  ...       0               0          0              0             0   \n",
      "86782  ...       0               0          0              0             0   \n",
      "86783  ...       0               0          0              0             0   \n",
      "86784  ...       0               0          0              0             0   \n",
      "\n",
      "       Snow flurries  Light fog  Sleet  Cloudy  Quite cool  \n",
      "0                  0          0      0       0           0  \n",
      "1                  0          0      0       0           0  \n",
      "2                  0          0      0       0           0  \n",
      "3                  0          0      0       0           0  \n",
      "4                  0          0      0       0           0  \n",
      "5                  0          0      0       0           0  \n",
      "6                  0          0      0       0           0  \n",
      "7                  0          0      0       0           0  \n",
      "8                  0          0      0       0           0  \n",
      "9                  0          0      0       0           0  \n",
      "10                 0          0      0       0           0  \n",
      "11                 0          0      0       0           0  \n",
      "12                 0          0      0       0           0  \n",
      "13                 0          0      0       0           0  \n",
      "14                 0          0      0       0           0  \n",
      "15                 0          0      0       0           0  \n",
      "16                 0          0      0       0           0  \n",
      "17                 0          0      0       0           0  \n",
      "18                 0          0      0       0           0  \n",
      "19                 0          0      0       0           0  \n",
      "20                 0          0      0       0           0  \n",
      "21                 0          0      0       0           0  \n",
      "22                 0          0      0       0           0  \n",
      "23                 0          0      0       0           0  \n",
      "24                 0          0      0       0           0  \n",
      "25                 0          0      0       0           0  \n",
      "26                 0          0      0       0           0  \n",
      "27                 0          0      0       0           0  \n",
      "28                 0          0      0       0           0  \n",
      "29                 0          0      0       0           0  \n",
      "...              ...        ...    ...     ...         ...  \n",
      "86755              0          0      0       0           0  \n",
      "86756              0          0      0       0           0  \n",
      "86757              0          0      0       0           0  \n",
      "86758              0          0      0       0           0  \n",
      "86759              0          0      0       0           0  \n",
      "86760              0          0      0       0           0  \n",
      "86761              0          0      0       0           0  \n",
      "86762              0          0      0       0           0  \n",
      "86763              0          0      0       0           0  \n",
      "86764              0          0      0       0           0  \n",
      "86765              0          0      0       0           0  \n",
      "86766              0          0      0       0           0  \n",
      "86767              0          0      0       0           0  \n",
      "86768              0          0      0       0           0  \n",
      "86769              0          0      0       0           0  \n",
      "86770              0          0      0       0           0  \n",
      "86771              0          0      0       0           0  \n",
      "86772              0          0      0       0           0  \n",
      "86773              0          0      0       0           0  \n",
      "86774              0          0      0       0           0  \n",
      "86775              0          0      0       0           0  \n",
      "86776              0          0      0       0           0  \n",
      "86777              0          0      0       0           0  \n",
      "86778              0          0      0       0           0  \n",
      "86779              0          0      0       0           0  \n",
      "86780              0          0      0       0           0  \n",
      "86781              0          0      0       0           0  \n",
      "86782              0          0      0       0           0  \n",
      "86783              0          0      0       0           0  \n",
      "86784              0          0      0       0           0  \n",
      "\n",
      "[86785 rows x 46 columns]\n"
     ]
    }
   ],
   "source": [
    "weather_combined_path=\"./data/combined_one_hot_data.tsv\"\n",
    "df = pd.read_csv(weather_combined_path,\n",
    "                 sep='\\t',\n",
    "                 header=0)\n",
    "\n",
    "#choose one station to test on\n",
    "#df=df[df['device_name']=='CB1143']\n",
    "print(df)"
   ]
  },
  {
   "cell_type": "markdown",
   "metadata": {},
   "source": [
    "# Remove outliers (bike_count)"
   ]
  },
  {
   "cell_type": "code",
   "execution_count": 3,
   "metadata": {},
   "outputs": [],
   "source": [
    "def remove_outlier(df_in, col_name):\n",
    "    \"\"\"Removes all outliers on a specific column from a given dataframe.\n",
    "\n",
    "    Args:\n",
    "        df_in (pandas.DataFrame): Iput pandas dataframe containing outliers\n",
    "        col_name (str): Column name on which to search outliers\n",
    "\n",
    "    Returns:\n",
    "        pandas.DataFrame: DataFrame without outliers\n",
    "    \"\"\"         \n",
    "    q1 = df_in[col_name].quantile(0.25)\n",
    "    q3 = df_in[col_name].quantile(0.75)\n",
    "    iqr = q3-q1  # Interquartile range\n",
    "    fence_low = q1-1.5*iqr\n",
    "    fence_high = q3+1.5*iqr\n",
    "    return df_in.loc[(df_in[col_name] > fence_low) & (df_in[col_name] < fence_high)] \n",
    "\n",
    "df = remove_outlier(df, \"bike_count\")\n"
   ]
  },
  {
   "cell_type": "markdown",
   "metadata": {},
   "source": [
    "# Correlation of variables\n"
   ]
  },
  {
   "cell_type": "code",
   "execution_count": null,
   "metadata": {},
   "outputs": [],
   "source": [
    "import matplotlib.pyplot as plt\n",
    "\n",
    "\n",
    "\n",
    "fig, ax = plt.subplots(figsize=(18,18))    \n",
    "\n",
    "correlation_matrix = df.corr().round(2)\n",
    "print(correlation_matrix)\n",
    "sns.heatmap(correlation_matrix, annot=True, fmt=\".001f\",ax=ax)"
   ]
  },
  {
   "cell_type": "markdown",
   "metadata": {},
   "source": [
    "# Feature selection"
   ]
  },
  {
   "cell_type": "code",
   "execution_count": 4,
   "metadata": {},
   "outputs": [
    {
     "name": "stdout",
     "output_type": "stream",
     "text": [
      "(80856, 28)\n"
     ]
    }
   ],
   "source": [
    "df = df.drop(columns=[\n",
    "    'device_name',\n",
    "    'timestamp_until',\n",
    "    'bike_avg_speed',\n",
    "    'weather_timestamp',\n",
    "    'wind_direction',\n",
    "    'wind_speed',\n",
    "    'barometer',\n",
    "    'visibility',\n",
    "    'Ice fog',\n",
    "    'Thundershowers',\n",
    "    'Sprinkles',\n",
    "    'Broken clouds',\n",
    "    'Rain showers',\n",
    "    'Snow flurries',\n",
    "    'Light fog',\n",
    "    'Sleet',\n",
    "    'Cloudy',\n",
    "    'Quite cool'    \n",
    "])\n",
    "print(df.shape)"
   ]
  },
  {
   "cell_type": "markdown",
   "metadata": {},
   "source": [
    "# Build models"
   ]
  },
  {
   "cell_type": "code",
   "execution_count": 14,
   "metadata": {},
   "outputs": [
    {
     "name": "stdout",
     "output_type": "stream",
     "text": [
      "_________________________________________________________________\n",
      "Layer (type)                 Output Shape              Param #   \n",
      "=================================================================\n",
      "dense_16 (Dense)             (None, 26)                702       \n",
      "_________________________________________________________________\n",
      "dense_17 (Dense)             (None, 26)                702       \n",
      "_________________________________________________________________\n",
      "dense_18 (Dense)             (None, 1)                 27        \n",
      "=================================================================\n",
      "Total params: 1,431\n",
      "Trainable params: 1,431\n",
      "Non-trainable params: 0\n",
      "_________________________________________________________________\n"
     ]
    }
   ],
   "source": [
    "def build_normal_model():\n",
    "    \n",
    "    initializer = initializers.VarianceScaling(scale=1.0, mode='fan_in', distribution='normal', seed=None)\n",
    "    model = Sequential()   \n",
    "    \n",
    "    model.add(Dense(26, input_dim=26,kernel_initializer='normal', activation='relu'))\n",
    "    model.add(Dense(26,activation='relu'))\n",
    "    model.add(Dense(1, activation='linear'))\n",
    "    optimizer = tf.keras.optimizers.RMSprop(0.001)\n",
    "    model.compile(loss='mse', optimizer=optimizer, metrics=['mse','mae'])\n",
    "    model.summary()\n",
    "    return model\n",
    "normal_model = build_normal_model()\n",
    "\n",
    "def build_lstm_model():\n",
    "    \n",
    "    model = Sequential()       \n",
    "    model.add(LSTM(26, input_shape=(1,26),kernel_initializer='normal', return_sequences=True))\n",
    "    model.add(LSTM(26, return_sequences=True))\n",
    "    model.add(LSTM(26, activation='relu'))\n",
    "    model.add(Dense(1, activation='linear'))\n",
    "    optimizer = tf.keras.optimizers.RMSprop(0.001)\n",
    "    model.compile(loss='mse', optimizer=optimizer, metrics=['mse','mae'])\n",
    "    model.summary()\n",
    "    return model\n",
    "\n",
    "model = normal_model\n"
   ]
  },
  {
   "cell_type": "markdown",
   "metadata": {},
   "source": [
    "# Set timestamp as index, set x & y"
   ]
  },
  {
   "cell_type": "code",
   "execution_count": 6,
   "metadata": {},
   "outputs": [],
   "source": [
    "\n",
    "df.set_index('timestamp_from', inplace=True)\n",
    "df = df.sort_values(by=['timestamp_from'])\n",
    "\n",
    "#set bike_count as Y\n",
    "df_y = df.bike_count\n",
    "df_x = df.drop(columns=\"bike_count\")"
   ]
  },
  {
   "cell_type": "code",
   "execution_count": 7,
   "metadata": {},
   "outputs": [
    {
     "name": "stdout",
     "output_type": "stream",
     "text": [
      "x_train shape (64685, 26)\n",
      "y_train shape (64685, 1)\n"
     ]
    },
    {
     "name": "stderr",
     "output_type": "stream",
     "text": [
      "/usr/local/lib/python3.6/dist-packages/sklearn/utils/validation.py:595: DataConversionWarning: Data with input dtype int64 was converted to float64 by MinMaxScaler.\n",
      "  warnings.warn(msg, DataConversionWarning)\n"
     ]
    }
   ],
   "source": [
    "\n",
    "\n",
    "\n",
    "#Normalization\n",
    "x = df_x.values\n",
    "y = df_y.values.reshape(-1, 1)\n",
    "\n",
    "x_scaler = preprocessing.MinMaxScaler()\n",
    "x_normalized = x_scaler.fit_transform(x)\n",
    "\n",
    "y_scaler = preprocessing.MinMaxScaler()\n",
    "y_normalized = y_scaler.fit_transform(y)\n",
    "\n",
    "x_in = pd.DataFrame(x_normalized)\n",
    "y_in = pd.DataFrame(y_normalized)\n",
    "\n",
    "\n",
    "#Prepare train & test dataset\n",
    "test_size = 0.2\n",
    "total = x_in.shape[0]\n",
    "train_idx = round((1-test_size) * total)\n",
    "\n",
    "\n",
    "\n",
    "x_train = x_in[0:train_idx].values\n",
    "#x_train = x_train.reshape(x_train.shape[0], 1, x_train.shape[1])\n",
    "\n",
    "x_test = x_in[train_idx+1:total-1].values\n",
    "#x_test = x_test.reshape(x_test.shape[0], 1, x_test.shape[1])\n",
    "\n",
    "y_train = y_in[0:train_idx].values\n",
    "y_test = y_in[train_idx+1:total-1]\n",
    "\n",
    "\n",
    "\n",
    "print(\"x_train shape {}\".format(x_train.shape))\n",
    "print(\"y_train shape {}\".format(y_train.shape))"
   ]
  },
  {
   "cell_type": "markdown",
   "metadata": {},
   "source": [
    "# Train models"
   ]
  },
  {
   "cell_type": "code",
   "execution_count": null,
   "metadata": {},
   "outputs": [
    {
     "name": "stdout",
     "output_type": "stream",
     "text": [
      "Epoch 1/8\n",
      "64685/64685 [==============================] - 7s 116us/sample - loss: 0.0454 - mean_squared_error: 0.0454 - mean_absolute_error: 0.1621\n",
      "Epoch 2/8\n",
      "64685/64685 [==============================] - 7s 115us/sample - loss: 0.0419 - mean_squared_error: 0.0419 - mean_absolute_error: 0.1539\n",
      "Epoch 3/8\n",
      "64685/64685 [==============================] - 7s 116us/sample - loss: 0.0404 - mean_squared_error: 0.0404 - mean_absolute_error: 0.1501\n",
      "Epoch 4/8\n",
      "64685/64685 [==============================] - 8s 116us/sample - loss: 0.0401 - mean_squared_error: 0.0401 - mean_absolute_error: 0.1493\n"
     ]
    }
   ],
   "source": [
    "model.fit(x_train, y_train, epochs=8)"
   ]
  },
  {
   "cell_type": "markdown",
   "metadata": {},
   "source": [
    "# Evaluate"
   ]
  },
  {
   "cell_type": "code",
   "execution_count": 13,
   "metadata": {},
   "outputs": [
    {
     "name": "stdout",
     "output_type": "stream",
     "text": [
      "16169/16169 [==============================] - 1s 56us/sample - loss: 0.0481 - mean_squared_error: 0.0481 - mean_absolute_error: 0.1695\n",
      "[[0.24356078]\n",
      " [0.30170244]\n",
      " [0.38066798]\n",
      " ...\n",
      " [0.17711383]\n",
      " [0.08577235]\n",
      " [0.10645164]]\n",
      "37.72634158635222\n"
     ]
    },
    {
     "data": {
      "image/png": "[encoded data removed]",
      "text/plain": [
       "<Figure size 1296x1296 with 1 Axes>"
      ]
     },
     "metadata": {
      "needs_background": "light"
     },
     "output_type": "display_data"
    }
   ],
   "source": [
    "model.evaluate(x_test, y_test)\n",
    "\n",
    "#x_test = x_train\n",
    "#y_test = y_train\n",
    "\n",
    "#x_test = x_test[14500:]\n",
    "#print(x_test)\n",
    "#y_test = y_test[14500:]\n",
    "\n",
    "\n",
    "y_prediction = model.predict(x_test)\n",
    "print(y_prediction)\n",
    "\n",
    "y_pred_scaled = y_scaler.inverse_transform(y_prediction)\n",
    "\n",
    "\n",
    "\n",
    "y_test_scaled = y_scaler.inverse_transform(y_test)\n",
    "mse = mean_squared_error(y_pred_scaled, y_test_scaled)\n",
    "print(mse)\n",
    "\n",
    "plt.rcParams['figure.figsize'] = [18, 18]\n",
    "l1, = plt.plot(y_test_scaled, 'g')\n",
    "l2, = plt.plot(y_pred_scaled, 'r', alpha=0.7)\n",
    "plt.legend(['Ground truth', 'Predicted'])\n",
    "plt.show()\n"
   ]
  },
  {
   "cell_type": "code",
   "execution_count": null,
   "metadata": {},
   "outputs": [],
   "source": []
  },
  {
   "cell_type": "code",
   "execution_count": null,
   "metadata": {},
   "outputs": [],
   "source": []
  }
 ],
 "metadata": {
  "kernelspec": {
   "display_name": "Python 3",
   "language": "python",
   "name": "python3"
  },
  "language_info": {
   "codemirror_mode": {
    "name": "ipython",
    "version": 3
   },
   "file_extension": ".py",
   "mimetype": "text/x-python",
   "name": "python",
   "nbconvert_exporter": "python",
   "pygments_lexer": "ipython3",
   "version": "3.7.3"
  }
 },
 "nbformat": 4,
 "nbformat_minor": 2
}
