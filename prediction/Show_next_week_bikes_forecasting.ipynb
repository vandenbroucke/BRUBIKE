{
 "cells": [
  {
   "cell_type": "markdown",
   "metadata": {},
   "source": [
    "# Importing libraries and loading data"
   ]
  },
  {
   "cell_type": "code",
   "execution_count": null,
   "metadata": {},
   "outputs": [],
   "source": [
    "import matplotlib.pyplot as plt\n",
    "import os\n",
    "import pandas as pd\n",
    "from sklearn import preprocessing\n",
    "from datetime import datetime as dt\n",
    "from tensorflow.python import keras \n",
    "from sklearn.metrics import mean_squared_error\n",
    "from sklearn.metrics import mean_absolute_error\n",
    "from IPython.display import IFrame\n",
    "import ipywidgets as widgets\n",
    "from sklearn.preprocessing import MinMaxScaler\n",
    "from utils import *\n",
    "import datetime"
   ]
  },
  {
   "cell_type": "markdown",
   "metadata": {},
   "source": [
    "# Loading model"
   ]
  },
  {
   "cell_type": "code",
   "execution_count": null,
   "metadata": {},
   "outputs": [],
   "source": [
    "update_one_hot_data('.././data/combined_data_22-jun.tsv','.././data/combined_data_22-jun_one_hot_data.tsv')\n",
    "df_new_data = pd.read_csv('.././data/combined_data_22-jun_one_hot_data.tsv',\n",
    "                 sep='\\t',\n",
    "                 header=0)\n",
    "start_size=df_new_data.shape[0]\n",
    "print(df_new_data.shape)\n",
    "df_new_data = remove_outlier(df_new_data, \"bike_count\")\n",
    "print(\"We have removed \"+str(start_size-df_new_data.shape[0])+\" outliers tuples (which is \"+str((start_size-df_new_data.shape[0])/start_size*100)+\" % of total).\")\n",
    "df_new_data=remove_features(df_new_data)    \n",
    "df_new_data.set_index('timestamp_from', inplace=True)\n",
    "df_new_data = df_new_data.sort_values(by=['timestamp_from'])\n",
    "print(df_new_data.shape)\n",
    "\n",
    "\n",
    "#set bike_count as Y\n",
    "df_y = df_new_data.bike_count\n",
    "df_x = df_new_data.drop(columns=\"bike_count\")\n",
    "\n",
    "\n",
    "#Normalization\n",
    "x = df_x.values\n",
    "y = df_y.values.reshape(-1, 1)\n",
    "print(y.shape)\n",
    "x_scaler = preprocessing.MinMaxScaler()\n",
    "x_normalized = x_scaler.fit_transform(x)\n",
    "\n",
    "y_scaler = preprocessing.MinMaxScaler()\n",
    "y_normalized = y_scaler.fit_transform(y)\n",
    "\n",
    "x_in = pd.DataFrame(x_normalized)\n",
    "y_in = pd.DataFrame(y_normalized)\n",
    "\n",
    "\n",
    "\n",
    "\n",
    "new_model = keras.models.load_model('.././model/model-23-jun.bin')\n",
    "new_model.summary()\n",
    "evaluate_model_and_show_graph(x_in,y_in,new_model,y_scaler)\n"
   ]
  },
  {
   "cell_type": "markdown",
   "metadata": {},
   "source": [
    "# Show bike poles map"
   ]
  },
  {
   "cell_type": "code",
   "execution_count": null,
   "metadata": {},
   "outputs": [],
   "source": [
    "if not os.path.isfile('.././map/bike_Brussels-points-map.html'):\n",
    "    from map.generate_map import GENERATE_MAP_MAIN_FUNCTION\n",
    "    GENERATE_MAP_MAIN_FUNCTION()\n",
    "IFrame(src='.././map/bike_Brussels-points-map.html',width=900,height=600)\n"
   ]
  },
  {
   "cell_type": "markdown",
   "metadata": {},
   "source": [
    "# Select calendar"
   ]
  },
  {
   "cell_type": "code",
   "execution_count": null,
   "metadata": {},
   "outputs": [],
   "source": [
    "print(\"Select a start and end date\")\n",
    "start_date=datetime.datetime.now()\n",
    "end_date=datetime.datetime.now()\n",
    "@widgets.interact(start=widgets.DatePicker(),value='2019-06-19')\n",
    "def foo(start=datetime.datetime.now()):\n",
    "    global start_date\n",
    "    start_date=start\n",
    "    return str(start)\n",
    "@widgets.interact(end=widgets.DatePicker())\n",
    "def foo2(end=datetime.datetime.now()):\n",
    "    global end_date\n",
    "    end_date=end\n",
    "    return str(end)"
   ]
  },
  {
   "cell_type": "markdown",
   "metadata": {},
   "source": [
    "# Gather information"
   ]
  },
  {
   "cell_type": "code",
   "execution_count": null,
   "metadata": {},
   "outputs": [],
   "source": [
    "\n",
    "if start_date ==None or end_date==None:\n",
    "    print(\"You need to set a start and end date\")\n",
    "else:\n",
    "    if start_date==end_date:\n",
    "        print(\"The dates must be different.\")\n",
    "    elif end_date<start_date or datetime.datetime.now()>datetime.datetime(start_date.year,start_date.month,start_date.day):\n",
    "        print(\"Start date needs to be lower than end date and start date needs to be greater than today.\")\n",
    "    else:\n",
    "        obtain_next_dates_data(start_date,end_date)\n"
   ]
  },
  {
   "cell_type": "markdown",
   "metadata": {},
   "source": [
    "# Predict"
   ]
  },
  {
   "cell_type": "code",
   "execution_count": null,
   "metadata": {},
   "outputs": [],
   "source": [
    "update_one_hot_data('.././data/next_dates_data.tsv','.././data/next_dates_data_one_hot_data.tsv')\n",
    "df_next_days_data = pd.read_csv('.././data/next_dates_data_one_hot_data.tsv',\n",
    "                 sep='\\t',\n",
    "                 header=0)\n",
    "start_size=df_next_days_data.shape\n",
    "print(start_size)\n",
    "df_next_days_data=remove_features(df_next_days_data)\n",
    "df_next_days_data.set_index('timestamp_from', inplace=True)\n",
    "df_next_days_data = df_next_days_data.sort_values(by=['timestamp_from'])\n",
    "print(df_next_days_data.shape)\n",
    "\n",
    "x_scaler = MinMaxScaler()\n",
    "\n",
    "x_data=df_next_days_data.drop(columns=\"bike_count\")\n",
    "x_normalized = x_scaler.fit_transform(x_data)\n",
    "x_in = pd.DataFrame(x_normalized)\n",
    "bike_prediction = new_model.predict(x_in)\n",
    "\n",
    "\n",
    "\n",
    "y_normalized = y_scaler.fit_transform(y)\n",
    "predicted_values=y_scaler.inverse_transform(bike_prediction)\n"
   ]
  },
  {
   "cell_type": "markdown",
   "metadata": {},
   "source": [
    "# Show forecasting on dynamic map"
   ]
  },
  {
   "cell_type": "code",
   "execution_count": null,
   "metadata": {},
   "outputs": [],
   "source": [
    "import folium\n",
    "import folium.plugins as plugins\n",
    "import numpy as np\n",
    "from pygame.math import Vector2\n",
    "from datetime import datetime as dt\n",
    "def points(number, center, radius):\n",
    "    angle = 360/number\n",
    "    \n",
    "    point_list = []\n",
    "    for i in range(number):\n",
    "        # Create a vector with the length of the radius, rotate it\n",
    "        # and add it to the center point to get a point on the circumference.\n",
    "        vec = center + Vector2(radius, 0).rotate(i*angle)\n",
    "        # pygame.draw.circle needs ints, so we have to convert the vector.\n",
    "        point_list.append([float(vec.x), float(vec.y),1])\n",
    "    return point_list\n",
    "def convert_to_proper_list(lat_list,long_list):\n",
    "    return_list=[]\n",
    "    for i in range(0,len(lat_list)):\n",
    "        return_list.append([lat_list[i],long_list[i]])\n",
    "    return return_list    \n",
    "def generate_circle_points(lat,long,number_points,limit_lat=0.00007,limit_long=0.0001):\n",
    "    return_list=[]\n",
    "    \n",
    "    for i in range(0,number_points):\n",
    "        return_list.extend(points(number_points,(lat,long),0.0001*i))\n",
    "        \n",
    "    \n",
    "    return return_list\n",
    "    \n",
    "def convert_row_to_multiple_points(data):\n",
    "    import random \n",
    "    rand_limits=0.0002\n",
    "    return_list=[]\n",
    "    for row in data:\n",
    "        temp_row=[]\n",
    "        for tuple_r in row:            \n",
    "            for i in range(0,tuple_r[2]):\n",
    "                #print(random.uniform(-rand_limits,rand_limits))\n",
    "                temp_row.extend(generate_circle_points(tuple_r[0],tuple_r[1],i))\n",
    "                #temp_row.append([tuple_r[0]+random.uniform(-rand_limits*i,rand_limits*i),tuple_r[1]+random.uniform(-rand_limits*i,rand_limits*i),i])            \n",
    "        return_list.append(temp_row)\n",
    "    return return_list            \n",
    "def SHOW_DYNAMIC_MAP(x_data,predicted_num_bikes):\n",
    "    import random    \n",
    "    import statistics as st\n",
    "    data_information=[]\n",
    "    latitudes_list=[]\n",
    "    longitudes_list=[]\n",
    "    timestamp_list=[]\n",
    "    rand_limits=0    \n",
    "    for row in x_data.index:\n",
    "        timestamp_list.append(row)\n",
    "    for row in x_data.latitude:\n",
    "        latitudes_list.append(row+random.uniform(-rand_limits,rand_limits))\n",
    "    for row in x_data.longitude:\n",
    "        longitudes_list.append(row+random.uniform(-rand_limits,rand_limits))  \n",
    "    for i in range(0,len(latitudes_list)):\n",
    "        data_information.append([latitudes_list[i],longitudes_list[i],float(predicted_num_bikes[i])])             \n",
    "    data=[]   \n",
    "    for i in range(0,int(len(timestamp_list)/9)):\n",
    "        data.append(convert_to_proper_list(latitudes_list[i*9:(i*9)+9],longitudes_list[i*9:(i*9)+9]))              \n",
    "    weight = 1  # default value\n",
    "    i=0\n",
    "    \n",
    "    for time_entry in data:\n",
    "        for row in time_entry:\n",
    "            row.append(int(predicted_num_bikes[i]))\n",
    "            i+=1\n",
    "    \n",
    "    from datetime import datetime, timedelta   \n",
    "    time_index = [\n",
    "        (dt.fromtimestamp(k)).strftime('%Y-%m-%d-%H:%M:%S') for k in timestamp_list\n",
    "    ]       \n",
    "    time_index=list(np.unique(np.array(time_index)))    \n",
    "    \n",
    "    #print(predicted_num_bikes)\n",
    "    #input()\n",
    "    #print(time_index)\n",
    "    #print(data[23])\n",
    "    #print(data[24])\n",
    "    data=convert_row_to_multiple_points(data)   \n",
    "    \n",
    "    m = folium.Map([st.mean(latitudes_list), st.mean(longitudes_list)], tiles='OpenStreetMap', zoom_start=11.5)\n",
    "    plugins.Fullscreen(\n",
    "    position='topright',\n",
    "    title='Expand me',\n",
    "    title_cancel='Exit me',\n",
    "    force_separate_button=True\n",
    "    ).add_to(m)\n",
    "    hm = plugins.HeatMapWithTime(\n",
    "        data,\n",
    "        index=time_index,\n",
    "        auto_play=True,\n",
    "        max_opacity=0.4\n",
    "    )\n",
    "\n",
    "    hm.add_to(m)\n",
    "\n",
    "    m.save('.././map/dynamic_forecasting_ap.html')\n",
    "SHOW_DYNAMIC_MAP(x_data,predicted_values)\n",
    "IFrame(src='.././map/dynamic_forecasting_ap.html',width=900,height=600)"
   ]
  },
  {
   "cell_type": "code",
   "execution_count": null,
   "metadata": {},
   "outputs": [],
   "source": []
  },
  {
   "cell_type": "code",
   "execution_count": null,
   "metadata": {},
   "outputs": [],
   "source": []
  }
 ],
 "metadata": {
  "kernelspec": {
   "display_name": "Python 3",
   "language": "python",
   "name": "python3"
  },
  "language_info": {
   "codemirror_mode": {
    "name": "ipython",
    "version": 3
   },
   "file_extension": ".py",
   "mimetype": "text/x-python",
   "name": "python",
   "nbconvert_exporter": "python",
   "pygments_lexer": "ipython3",
   "version": "3.7.3"
  }
 },
 "nbformat": 4,
 "nbformat_minor": 2
}
